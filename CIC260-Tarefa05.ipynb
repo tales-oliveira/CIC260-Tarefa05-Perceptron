{
  "nbformat": 4,
  "nbformat_minor": 0,
  "metadata": {
    "colab": {
      "name": "CIC260-Tarefa05.ipynb",
      "provenance": []
    },
    "kernelspec": {
      "name": "python3",
      "display_name": "Python 3"
    },
    "language_info": {
      "name": "python"
    }
  },
  "cells": [
    {
      "cell_type": "markdown",
      "metadata": {
        "id": "zFc5zO7OShLf"
      },
      "source": [
        "#CIC260 - Inteligência Artificial\n",
        "\n",
        "##Tales Oliveira\n",
        "##Tarefa 05"
      ]
    },
    {
      "cell_type": "code",
      "metadata": {
        "id": "Hw0LU3xLSMmv"
      },
      "source": [
        "# Importando a biblioteca numérica numpy\n",
        "import numpy as np "
      ],
      "execution_count": null,
      "outputs": []
    },
    {
      "cell_type": "code",
      "metadata": {
        "id": "q1jvafKPYivp"
      },
      "source": [
        ""
      ],
      "execution_count": null,
      "outputs": []
    }
  ]
}