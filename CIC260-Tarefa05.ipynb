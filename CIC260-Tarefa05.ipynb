{
  "nbformat": 4,
  "nbformat_minor": 0,
  "metadata": {
    "colab": {
      "name": "CIC260-Tarefa05.ipynb",
      "provenance": []
    },
    "kernelspec": {
      "name": "python3",
      "display_name": "Python 3"
    },
    "language_info": {
      "name": "python"
    }
  },
  "cells": [
    {
      "cell_type": "markdown",
      "metadata": {
        "id": "zFc5zO7OShLf"
      },
      "source": [
        "#CIC260 - Inteligência Artificial\n",
        "\n",
        "##Tales Oliveira\n",
        "##Tarefa 05"
      ]
    },
    {
      "cell_type": "markdown",
      "metadata": {
        "id": "yZ8qSQzSSY8N"
      },
      "source": [
        "###============================================================================================\n",
        "###Importando a biblioteca numérica numpy"
      ]
    },
    {
      "cell_type": "code",
      "metadata": {
        "id": "Hw0LU3xLSMmv"
      },
      "source": [
        "import numpy as np "
      ],
      "execution_count": 20,
      "outputs": []
    },
    {
      "cell_type": "markdown",
      "metadata": {
        "id": "un5rS6hFkftD"
      },
      "source": [
        "###Definindo a classe Perceptron"
      ]
    },
    {
      "cell_type": "code",
      "metadata": {
        "id": "q1jvafKPYivp"
      },
      "source": [
        "class Perceptron(object):\n",
        "    def __init__(self, tAprendizagem=0.01, nIteracoes=50, random_state=1):\n",
        "        self.tAprendizagem = tAprendizagem\n",
        "        self.nIteracoes = nIteracoes\n",
        "        self.random_state = random_state\n",
        "\n",
        "    # Função para o aprendizado a partir do número de amostras e número de atributos do conjunto     \n",
        "    def fit(self, X, y):\n",
        "        rgen = np.random.RandomState(self.random_state)\n",
        "        self.w_ = rgen.normal(loc=0.0, scale=0.01, size=1+X.shape[1])\n",
        "        self.errors_ = []\n",
        "        \n",
        "        for _ in range(self.nIteracoes):\n",
        "            errors = 0\n",
        "            for xi, target in zip(X, y):\n",
        "                update = self.tAprendizagem * (target - self.predict(xi))\n",
        "                self.w_[1:] += update * xi\n",
        "                self.w_[0] += update\n",
        "                errors += int(update != 0.0)\n",
        "            self.errors_.append(errors)\n",
        "        return self\n",
        "    \n",
        "    # Função para calcular a entrada\n",
        "    def net_input(self, X):\n",
        "        return np.dot(X, self.w_[1:]) + self.w_[0]\n",
        "    \n",
        "    # Função para obter o rótulo da classe utilizando função degrau\n",
        "    def predict(self, X):\n",
        "        return np.where(self.net_input(X) >= 0.0, 1, -1)"
      ],
      "execution_count": 21,
      "outputs": []
    },
    {
      "cell_type": "markdown",
      "metadata": {
        "id": "sRRSzwBonmb7"
      },
      "source": [
        "###============================================================================================"
      ]
    },
    {
      "cell_type": "markdown",
      "metadata": {
        "id": "LyoIv6ve9-ot"
      },
      "source": [
        "### A biblioteca pandas é utilizada para o armazenamento de dados tabulados da base de dados Iris.\n"
      ]
    },
    {
      "cell_type": "code",
      "metadata": {
        "id": "u1FzeXtp998P"
      },
      "source": [
        "import pandas as pd"
      ],
      "execution_count": 12,
      "outputs": []
    },
    {
      "cell_type": "code",
      "metadata": {
        "colab": {
          "base_uri": "https://localhost:8080/",
          "height": 204
        },
        "id": "VPjI9RWv-Ncj",
        "outputId": "5c713acf-2e60-4982-fa98-2fcdfc3ee1db"
      },
      "source": [
        "df = pd.read_csv('https://archive.ics.uci.edu/ml/machine-learning-databases/iris/iris.data', header=None) # A base de dados é lida\n",
        "df.tail() # O final do conjunto é exibido"
      ],
      "execution_count": 13,
      "outputs": [
        {
          "output_type": "execute_result",
          "data": {
            "text/html": [
              "<div>\n",
              "<style scoped>\n",
              "    .dataframe tbody tr th:only-of-type {\n",
              "        vertical-align: middle;\n",
              "    }\n",
              "\n",
              "    .dataframe tbody tr th {\n",
              "        vertical-align: top;\n",
              "    }\n",
              "\n",
              "    .dataframe thead th {\n",
              "        text-align: right;\n",
              "    }\n",
              "</style>\n",
              "<table border=\"1\" class=\"dataframe\">\n",
              "  <thead>\n",
              "    <tr style=\"text-align: right;\">\n",
              "      <th></th>\n",
              "      <th>0</th>\n",
              "      <th>1</th>\n",
              "      <th>2</th>\n",
              "      <th>3</th>\n",
              "      <th>4</th>\n",
              "    </tr>\n",
              "  </thead>\n",
              "  <tbody>\n",
              "    <tr>\n",
              "      <th>145</th>\n",
              "      <td>6.7</td>\n",
              "      <td>3.0</td>\n",
              "      <td>5.2</td>\n",
              "      <td>2.3</td>\n",
              "      <td>Iris-virginica</td>\n",
              "    </tr>\n",
              "    <tr>\n",
              "      <th>146</th>\n",
              "      <td>6.3</td>\n",
              "      <td>2.5</td>\n",
              "      <td>5.0</td>\n",
              "      <td>1.9</td>\n",
              "      <td>Iris-virginica</td>\n",
              "    </tr>\n",
              "    <tr>\n",
              "      <th>147</th>\n",
              "      <td>6.5</td>\n",
              "      <td>3.0</td>\n",
              "      <td>5.2</td>\n",
              "      <td>2.0</td>\n",
              "      <td>Iris-virginica</td>\n",
              "    </tr>\n",
              "    <tr>\n",
              "      <th>148</th>\n",
              "      <td>6.2</td>\n",
              "      <td>3.4</td>\n",
              "      <td>5.4</td>\n",
              "      <td>2.3</td>\n",
              "      <td>Iris-virginica</td>\n",
              "    </tr>\n",
              "    <tr>\n",
              "      <th>149</th>\n",
              "      <td>5.9</td>\n",
              "      <td>3.0</td>\n",
              "      <td>5.1</td>\n",
              "      <td>1.8</td>\n",
              "      <td>Iris-virginica</td>\n",
              "    </tr>\n",
              "  </tbody>\n",
              "</table>\n",
              "</div>"
            ],
            "text/plain": [
              "       0    1    2    3               4\n",
              "145  6.7  3.0  5.2  2.3  Iris-virginica\n",
              "146  6.3  2.5  5.0  1.9  Iris-virginica\n",
              "147  6.5  3.0  5.2  2.0  Iris-virginica\n",
              "148  6.2  3.4  5.4  2.3  Iris-virginica\n",
              "149  5.9  3.0  5.1  1.8  Iris-virginica"
            ]
          },
          "metadata": {},
          "execution_count": 13
        }
      ]
    },
    {
      "cell_type": "markdown",
      "metadata": {
        "id": "4vum-TvIn0Nj"
      },
      "source": [
        "###============================================================================================"
      ]
    },
    {
      "cell_type": "markdown",
      "metadata": {
        "id": "GcPsP4bnA3QF"
      },
      "source": [
        "### A biblioteca matplotlib é utilizada para visualizar parte do conjunto de dados."
      ]
    },
    {
      "cell_type": "code",
      "metadata": {
        "id": "2TZZcJZ1-W_N"
      },
      "source": [
        "import matplotlib.pyplot as plt"
      ],
      "execution_count": 22,
      "outputs": []
    },
    {
      "cell_type": "code",
      "metadata": {
        "id": "IpodzbZkBBN_"
      },
      "source": [
        "y = df.iloc[0:100, 4].values \n",
        "# Vamos convertes os valores das classes em valores 1 ou -1.\n",
        "# A classe 'Iris-setosa' será -1 e o restante 1\n",
        "y = np.where(y == 'Iris-setosa', -1, 1)"
      ],
      "execution_count": 23,
      "outputs": []
    },
    {
      "cell_type": "code",
      "metadata": {
        "id": "fPzJeuK7BEu-"
      },
      "source": [
        "X = df.iloc[0:100, [0,2]].values"
      ],
      "execution_count": 24,
      "outputs": []
    },
    {
      "cell_type": "markdown",
      "metadata": {
        "id": "5XfkzGdcBJJk"
      },
      "source": [
        "### Exibindo a distribuição dos valores obtidos."
      ]
    },
    {
      "cell_type": "code",
      "metadata": {
        "colab": {
          "base_uri": "https://localhost:8080/",
          "height": 280
        },
        "id": "__iJDba8BGyE",
        "outputId": "c031eb10-99f2-41f1-e737-4ee2f6a537e0"
      },
      "source": [
        "plt.scatter(X[:50, 0], X[:50, 1],\n",
        "           color='red', marker='o', label='setosa')\n",
        "plt.scatter(X[50:100, 0], X[50:100, 1],\n",
        "           color='blue', marker='x', label='versicolor')\n",
        "plt.xlabel('comprimento da sépala [cm]')\n",
        "plt.ylabel('comprimento da pétala [cm]')\n",
        "plt.legend(loc='upper left')\n",
        "plt.show()"
      ],
      "execution_count": 15,
      "outputs": [
        {
          "output_type": "display_data",
          "data": {
            "image/png": "[encoded data removed]",
            "text/plain": [
              "<Figure size 432x288 with 1 Axes>"
            ]
          },
          "metadata": {
            "needs_background": "light"
          }
        }
      ]
    },
    {
      "cell_type": "code",
      "metadata": {
        "colab": {
          "base_uri": "https://localhost:8080/"
        },
        "id": "Ey0hu78-Ch0l",
        "outputId": "850c5ff3-7715-4475-ab74-a309a8a52427"
      },
      "source": [
        "ppn = Perceptron(tAprendizagem=0.1, nIteracoes=10)\n",
        "ppn.fit(X, y) ## Chamada do método que faz o treino, passando as entradas (X) e suas respectivas saídas (y)"
      ],
      "execution_count": 16,
      "outputs": [
        {
          "output_type": "execute_result",
          "data": {
            "text/plain": [
              "<__main__.Perceptron at 0x7fab6b59f110>"
            ]
          },
          "metadata": {},
          "execution_count": 16
        }
      ]
    },
    {
      "cell_type": "code",
      "metadata": {
        "colab": {
          "base_uri": "https://localhost:8080/",
          "height": 281
        },
        "id": "VRXaWVrvCiWx",
        "outputId": "570c3947-6bcd-4c37-f7bc-cfa523c971e8"
      },
      "source": [
        "plt.plot(range(1, len(ppn.errors_) +1),\n",
        "        ppn.errors_, marker='o')\n",
        "plt.xlabel('Épocas')\n",
        "plt.ylabel('Nº de atualizações')\n",
        "plt.show()"
      ],
      "execution_count": 17,
      "outputs": [
        {
          "output_type": "display_data",
          "data": {
            "image/png": "[encoded data removed]",
            "text/plain": [
              "<Figure size 432x288 with 1 Axes>"
            ]
          },
          "metadata": {
            "needs_background": "light"
          }
        }
      ]
    },
    {
      "cell_type": "markdown",
      "metadata": {
        "id": "HPPqr9_Dn3ft"
      },
      "source": [
        "###============================================================================================"
      ]
    },
    {
      "cell_type": "code",
      "metadata": {
        "id": "5OF_f8EfClLD"
      },
      "source": [
        "# Importamos a biblioteca\n",
        "from mlxtend.plotting import plot_decision_regions"
      ],
      "execution_count": 18,
      "outputs": []
    },
    {
      "cell_type": "code",
      "metadata": {
        "colab": {
          "base_uri": "https://localhost:8080/",
          "height": 369
        },
        "id": "lunrs3mSCoEK",
        "outputId": "3ed012af-91b4-4413-f70d-e9e67d434fd0"
      },
      "source": [
        "# Plotamos o gráfico\n",
        "plot_decision_regions(X, y, clf=ppn)\n",
        "plt.title('Perceptron')\n",
        "plt.show()"
      ],
      "execution_count": 25,
      "outputs": [
        {
          "output_type": "stream",
          "name": "stderr",
          "text": [
            "/usr/local/lib/python3.7/dist-packages/mlxtend/plotting/decision_regions.py:242: UserWarning: No contour levels were found within the data range.\n",
            "  antialiased=True)\n",
            "/usr/local/lib/python3.7/dist-packages/mlxtend/plotting/decision_regions.py:244: MatplotlibDeprecationWarning: Passing unsupported keyword arguments to axis() will raise a TypeError in 3.3.\n",
            "  ax.axis(xmin=xx.min(), xmax=xx.max(), y_min=yy.min(), y_max=yy.max())\n"
          ]
        },
        {
          "output_type": "display_data",
          "data": {
            "image/png": "[encoded data removed]",
            "text/plain": [
              "<Figure size 432x288 with 1 Axes>"
            ]
          },
          "metadata": {
            "needs_background": "light"
          }
        }
      ]
    },
    {
      "cell_type": "markdown",
      "metadata": {
        "id": "3ZaHrVVWn5vY"
      },
      "source": [
        "###============================================================================================"
      ]
    },
    {
      "cell_type": "markdown",
      "metadata": {
        "id": "V4HXoTT3CtZA"
      },
      "source": [
        "###SCIKIT"
      ]
    },
    {
      "cell_type": "code",
      "metadata": {
        "colab": {
          "base_uri": "https://localhost:8080/",
          "height": 265
        },
        "id": "B5D4OD-NCqOR",
        "outputId": "248e77e1-2d9e-4a72-b86f-5f61d1907038"
      },
      "source": [
        "from sklearn.datasets import make_blobs\n",
        "# Vamos criar 2 blobs com 200 amostras e 2 dimensões e 2 centros.\n",
        "blobs = make_blobs(n_samples=200, n_features=2, centers=2, random_state=42)\n",
        "# Em seguida, vamos plotar os dados gerados para visualização.\n",
        "plt.scatter(blobs[0][:,0], blobs[0][:,1], c=blobs[1])\n",
        "plt.show()"
      ],
      "execution_count": null,
      "outputs": [
        {
          "output_type": "display_data",
          "data": {
            "image/png": "[encoded data removed]",
            "text/plain": [
              "<Figure size 432x288 with 1 Axes>"
            ]
          },
          "metadata": {
            "needs_background": "light"
          }
        }
      ]
    },
    {
      "cell_type": "code",
      "metadata": {
        "colab": {
          "base_uri": "https://localhost:8080/"
        },
        "id": "NX2LmOCjC0br",
        "outputId": "9e79cf52-35d5-46cc-a151-3d778b6e6420"
      },
      "source": [
        "ppn = Perceptron(nIteracoes=10, tAprendizagem=0.02)\n",
        "X = blobs[0] # Entrada de dados\n",
        "y = blobs[1] # Saída\n",
        "# Apenas para substituir as classes 0 e 1 para 1 e -1\n",
        "# A classe 1 é a que desejamos encontrar.\n",
        "y[y == 0] = -1\n",
        "ppn.fit(X, y) # Treinar"
      ],
      "execution_count": 26,
      "outputs": [
        {
          "output_type": "execute_result",
          "data": {
            "text/plain": [
              "<__main__.Perceptron at 0x7fab60dd4f10>"
            ]
          },
          "metadata": {},
          "execution_count": 26
        }
      ]
    }
  ]
}